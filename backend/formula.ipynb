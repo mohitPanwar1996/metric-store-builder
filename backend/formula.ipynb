{
 "cells": [
  {
   "cell_type": "code",
   "execution_count": 1,
   "metadata": {},
   "outputs": [
    {
     "name": "stdout",
     "output_type": "stream",
     "text": [
      "Defaulting to user installation because normal site-packages is not writeable\n",
      "Requirement already satisfied: pandas in /Users/mohit/Library/Python/3.9/lib/python/site-packages (2.2.2)\n",
      "Requirement already satisfied: tzdata>=2022.7 in /Users/mohit/Library/Python/3.9/lib/python/site-packages (from pandas) (2024.1)\n",
      "Requirement already satisfied: numpy>=1.22.4 in /Users/mohit/Library/Python/3.9/lib/python/site-packages (from pandas) (1.26.4)\n",
      "Requirement already satisfied: python-dateutil>=2.8.2 in /Users/mohit/Library/Python/3.9/lib/python/site-packages (from pandas) (2.8.2)\n",
      "Requirement already satisfied: pytz>=2020.1 in /Users/mohit/Library/Python/3.9/lib/python/site-packages (from pandas) (2023.3.post1)\n",
      "Requirement already satisfied: six>=1.5 in /Library/Developer/CommandLineTools/Library/Frameworks/Python3.framework/Versions/3.9/lib/python3.9/site-packages (from python-dateutil>=2.8.2->pandas) (1.15.0)\n",
      "\u001b[33mWARNING: You are using pip version 21.2.4; however, version 24.0 is available.\n",
      "You should consider upgrading via the '/Library/Developer/CommandLineTools/usr/bin/python3 -m pip install --upgrade pip' command.\u001b[0m\n",
      "Defaulting to user installation because normal site-packages is not writeable\n",
      "Requirement already satisfied: numpy in /Users/mohit/Library/Python/3.9/lib/python/site-packages (1.26.4)\n",
      "\u001b[33mWARNING: You are using pip version 21.2.4; however, version 24.0 is available.\n",
      "You should consider upgrading via the '/Library/Developer/CommandLineTools/usr/bin/python3 -m pip install --upgrade pip' command.\u001b[0m\n"
     ]
    }
   ],
   "source": [
    "!pip3 install pandas\n",
    "!pip3 install numpy"
   ]
  },
  {
   "cell_type": "code",
   "execution_count": 19,
   "metadata": {},
   "outputs": [
    {
     "name": "stdout",
     "output_type": "stream",
     "text": [
      "                       date opening_arr\n",
      "0   2023-06-01T00:00:00.000    21522955\n",
      "1   2023-07-01T00:00:00.000    18445640\n",
      "2   2023-08-01T00:00:00.000    14617155\n",
      "3   2023-09-01T00:00:00.000    17789370\n",
      "4   2023-10-01T00:00:00.000    23391390\n",
      "5   2023-11-01T00:00:00.000    25232450\n",
      "6   2023-12-01T00:00:00.000    26603025\n",
      "7   2024-01-01T00:00:00.000    24173585\n",
      "8   2024-02-01T00:00:00.000    24767805\n",
      "9   2024-03-01T00:00:00.000    29109480\n",
      "10  2024-04-01T00:00:00.000    31516655\n",
      "11  2024-05-01T00:00:00.000    26539880\n"
     ]
    }
   ],
   "source": [
    "import pandas as pd\n",
    "\n",
    "openingPd = pd.DataFrame([\n",
    "    {\n",
    "        \"date\": \"2023-06-01T00:00:00.000\",\n",
    "        \"opening_arr\": \"21522955\"\n",
    "    },\n",
    "    {\n",
    "        \"date\": \"2023-07-01T00:00:00.000\",\n",
    "        \"opening_arr\": \"18445640\"\n",
    "    },\n",
    "    {\n",
    "        \"date\": \"2023-08-01T00:00:00.000\",\n",
    "        \"opening_arr\": \"14617155\"\n",
    "    },\n",
    "    {\n",
    "        \"date\": \"2023-09-01T00:00:00.000\",\n",
    "        \"opening_arr\": \"17789370\"\n",
    "    },\n",
    "    {\n",
    "        \"date\": \"2023-10-01T00:00:00.000\",\n",
    "        \"opening_arr\": \"23391390\"\n",
    "    },\n",
    "    {\n",
    "        \"date\": \"2023-11-01T00:00:00.000\",\n",
    "        \"opening_arr\": \"25232450\"\n",
    "    },\n",
    "    {\n",
    "        \"date\": \"2023-12-01T00:00:00.000\",\n",
    "        \"opening_arr\": \"26603025\"\n",
    "    },\n",
    "    {\n",
    "        \"date\": \"2024-01-01T00:00:00.000\",\n",
    "        \"opening_arr\": \"24173585\"\n",
    "    },\n",
    "    {\n",
    "        \"date\": \"2024-02-01T00:00:00.000\",\n",
    "        \"opening_arr\": \"24767805\"\n",
    "    },\n",
    "    {\n",
    "        \"date\": \"2024-03-01T00:00:00.000\",\n",
    "        \"opening_arr\": \"29109480\"\n",
    "    },\n",
    "    {\n",
    "        \"date\": \"2024-04-01T00:00:00.000\",\n",
    "        \"opening_arr\": \"31516655\"\n",
    "    },\n",
    "    {\n",
    "        \"date\": \"2024-05-01T00:00:00.000\",\n",
    "        \"opening_arr\": \"26539880\"\n",
    "    }\n",
    "])\n",
    "\n",
    "print(openingPd)"
   ]
  },
  {
   "cell_type": "code",
   "execution_count": 18,
   "metadata": {},
   "outputs": [
    {
     "name": "stdout",
     "output_type": "stream",
     "text": [
      "                       date  new_arr\n",
      "0   2023-06-01T00:00:00.000    67525\n",
      "1   2023-07-01T00:00:00.000  2667420\n",
      "2   2023-08-01T00:00:00.000  4496070\n",
      "3   2023-09-01T00:00:00.000  5602020\n",
      "4   2023-10-01T00:00:00.000  4620900\n",
      "5   2023-11-01T00:00:00.000  5723930\n",
      "6   2023-12-01T00:00:00.000  3095565\n",
      "7   2024-01-01T00:00:00.000  1175300\n",
      "8   2024-02-01T00:00:00.000  8123440\n",
      "9   2024-03-01T00:00:00.000  2407175\n",
      "10  2024-04-01T00:00:00.000  1865515\n",
      "11  2024-05-01T00:00:00.000        0\n"
     ]
    }
   ],
   "source": [
    "newPd = [\n",
    "    {\n",
    "        \"date\": \"2023-06-01T00:00:00.000\",\n",
    "        \"new_arr\": \"67525\"\n",
    "    },\n",
    "    {\n",
    "        \"date\": \"2023-07-01T00:00:00.000\",\n",
    "        \"new_arr\": \"2667420\"\n",
    "    },\n",
    "    {\n",
    "        \"date\": \"2023-08-01T00:00:00.000\",\n",
    "        \"new_arr\": \"4496070\"\n",
    "    },\n",
    "    {\n",
    "        \"date\": \"2023-09-01T00:00:00.000\",\n",
    "        \"new_arr\": \"5602020\"\n",
    "    },\n",
    "    {\n",
    "        \"date\": \"2023-10-01T00:00:00.000\",\n",
    "        \"new_arr\": \"4620900\"\n",
    "    },\n",
    "    {\n",
    "        \"date\": \"2023-11-01T00:00:00.000\",\n",
    "        \"new_arr\": \"5723930\"\n",
    "    },\n",
    "    {\n",
    "        \"date\": \"2023-12-01T00:00:00.000\",\n",
    "        \"new_arr\": \"3095565\"\n",
    "    },\n",
    "    {\n",
    "   \n",
    "        \"date\": \"2024-01-01T00:00:00.000\",\n",
    "        \"new_arr\": \"1175300\"\n",
    "    },\n",
    "    {\n",
    "        \"date\": \"2024-02-01T00:00:00.000\",\n",
    "        \"new_arr\": \"8123440\"\n",
    "    },\n",
    "    {\n",
    "        \"date\": \"2024-03-01T00:00:00.000\",\n",
    "        \"new_arr\": \"2407175\"\n",
    "    },\n",
    "    {\n",
    "        \"date\": \"2024-04-01T00:00:00.000\",\n",
    "        \"new_arr\": \"1865515\"\n",
    "    },\n",
    "    {\n",
    "        \"date\": \"2024-05-01T00:00:00.000\",\n",
    "        \"new_arr\": \"0\"\n",
    "    }\n",
    "]\n",
    "\n",
    "newDf = pd.DataFrame(newPd)\n"
   ]
  },
  {
   "cell_type": "code",
   "execution_count": null,
   "metadata": {},
   "outputs": [],
   "source": [
    "CAC =  OFFSET((S&M Expense - Customer Marketing Expense), -1) / New Customers"
   ]
  }
 ],
 "metadata": {
  "kernelspec": {
   "display_name": "Python 3",
   "language": "python",
   "name": "python3"
  },
  "language_info": {
   "codemirror_mode": {
    "name": "ipython",
    "version": 3
   },
   "file_extension": ".py",
   "mimetype": "text/x-python",
   "name": "python",
   "nbconvert_exporter": "python",
   "pygments_lexer": "ipython3",
   "version": "3.9.6"
  }
 },
 "nbformat": 4,
 "nbformat_minor": 2
}
